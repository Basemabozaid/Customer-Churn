{
  "nbformat": 4,
  "nbformat_minor": 0,
  "metadata": {
    "colab": {
      "provenance": []
    },
    "kernelspec": {
      "name": "python3",
      "display_name": "Python 3"
    },
    "language_info": {
      "name": "python"
    }
  },
  "cells": [
    {
      "cell_type": "code",
      "source": [
        "import streamlit as st\n",
        "import pickle\n",
        "import pandas as pd\n"
      ],
      "metadata": {
        "id": "e5JrqIkT7-6Z"
      },
      "execution_count": 3,
      "outputs": []
    },
    {
      "cell_type": "code",
      "source": [
        "# Load Transformer & Model\n",
        "trans_path = r\"D:\\Basem\\Master\\Master semester 2024\\Data science\\project\\CX\\transformer.pkl\"\n",
        "model_path = r\"D:\\Basem\\Master\\Master semester 2024\\Data science\\project\\CX\\log_reg.pkl\"\n",
        "\n",
        "try:\n",
        "    with open(trans_path, 'rb') as file:\n",
        "        trans = pickle.load(file)\n",
        "\n",
        "    with open(model_path, 'rb') as file:\n",
        "        model = pickle.load(file)\n",
        "\n",
        "    st.success(\"✅ Model Loaded Successfully!\")\n",
        "\n",
        "except FileNotFoundError:\n",
        "    st.error(\"❌ Model files not found. Please check the file path.\")\n",
        "    st.stop()"
      ],
      "metadata": {
        "colab": {
          "base_uri": "https://localhost:8080/"
        },
        "id": "lclFQFUX8ITb",
        "outputId": "66fc3db2-90e4-4c1c-c78d-263154dc142f"
      },
      "execution_count": 7,
      "outputs": [
        {
          "output_type": "stream",
          "name": "stderr",
          "text": [
            "2025-02-03 13:17:46.164 WARNING streamlit.runtime.scriptrunner_utils.script_run_context: Thread 'MainThread': missing ScriptRunContext! This warning can be ignored when running in bare mode.\n",
            "2025-02-03 13:17:46.272 \n",
            "  \u001b[33m\u001b[1mWarning:\u001b[0m to view this Streamlit app on a browser, run it with the following\n",
            "  command:\n",
            "\n",
            "    streamlit run /usr/local/lib/python3.11/dist-packages/colab_kernel_launcher.py [ARGUMENTS]\n",
            "2025-02-03 13:17:46.281 Thread 'MainThread': missing ScriptRunContext! This warning can be ignored when running in bare mode.\n",
            "2025-02-03 13:17:46.285 Thread 'MainThread': missing ScriptRunContext! This warning can be ignored when running in bare mode.\n"
          ]
        }
      ]
    },
    {
      "cell_type": "code",
      "source": [
        "# Streamlit UI\n",
        "st.title('📊 Customer Churn Prediction')"
      ],
      "metadata": {
        "colab": {
          "base_uri": "https://localhost:8080/"
        },
        "id": "7usVqlQY9eOb",
        "outputId": "41792edc-687a-431e-8342-51489c28718f"
      },
      "execution_count": 8,
      "outputs": [
        {
          "output_type": "stream",
          "name": "stderr",
          "text": [
            "2025-02-03 13:18:18.694 Thread 'MainThread': missing ScriptRunContext! This warning can be ignored when running in bare mode.\n",
            "2025-02-03 13:18:18.699 Thread 'MainThread': missing ScriptRunContext! This warning can be ignored when running in bare mode.\n"
          ]
        },
        {
          "output_type": "execute_result",
          "data": {
            "text/plain": [
              "DeltaGenerator()"
            ]
          },
          "metadata": {},
          "execution_count": 8
        }
      ]
    },
    {
      "cell_type": "code",
      "source": [
        "# Input form for customer details\n",
        "contract = st.selectbox('📜 Contract Type', ['Month-to-month', 'One year', 'Two year'])\n",
        "onlinesecurity = st.selectbox('🔒 Online Security', ['Yes', 'No'])\n",
        "techsupport = st.selectbox('🛠 Tech Support', ['Yes', 'No'])\n",
        "internetservice = st.selectbox('🌐 Internet Service', ['DSL', 'Fiber optic', 'No'])\n",
        "onlinebackup = st.selectbox('💾 Online Backup', ['Yes', 'No'])\n",
        "tenure = st.number_input('📆 Tenure (Months)', min_value=0, max_value=100, value=1)\n",
        "monthlycharges = st.number_input('💰 Monthly Charges ($)', min_value=0.0, value=50.0)\n",
        "totalcharges = st.number_input('💵 Total Charges ($)', min_value=0.0, value=100.0)"
      ],
      "metadata": {
        "colab": {
          "base_uri": "https://localhost:8080/"
        },
        "id": "alufX-Ov9mK9",
        "outputId": "2a6b9b2e-1a7c-4fff-aa61-f9dc11c55d11"
      },
      "execution_count": 9,
      "outputs": [
        {
          "output_type": "stream",
          "name": "stderr",
          "text": [
            "2025-02-03 13:18:28.289 Thread 'MainThread': missing ScriptRunContext! This warning can be ignored when running in bare mode.\n",
            "2025-02-03 13:18:28.292 Thread 'MainThread': missing ScriptRunContext! This warning can be ignored when running in bare mode.\n",
            "2025-02-03 13:18:28.294 Thread 'MainThread': missing ScriptRunContext! This warning can be ignored when running in bare mode.\n",
            "2025-02-03 13:18:28.297 Thread 'MainThread': missing ScriptRunContext! This warning can be ignored when running in bare mode.\n",
            "2025-02-03 13:18:28.299 Session state does not function when running a script without `streamlit run`\n",
            "2025-02-03 13:18:28.301 Thread 'MainThread': missing ScriptRunContext! This warning can be ignored when running in bare mode.\n",
            "2025-02-03 13:18:28.302 Thread 'MainThread': missing ScriptRunContext! This warning can be ignored when running in bare mode.\n",
            "2025-02-03 13:18:28.304 Thread 'MainThread': missing ScriptRunContext! This warning can be ignored when running in bare mode.\n",
            "2025-02-03 13:18:28.305 Thread 'MainThread': missing ScriptRunContext! This warning can be ignored when running in bare mode.\n",
            "2025-02-03 13:18:28.306 Thread 'MainThread': missing ScriptRunContext! This warning can be ignored when running in bare mode.\n",
            "2025-02-03 13:18:28.307 Thread 'MainThread': missing ScriptRunContext! This warning can be ignored when running in bare mode.\n",
            "2025-02-03 13:18:28.309 Thread 'MainThread': missing ScriptRunContext! This warning can be ignored when running in bare mode.\n",
            "2025-02-03 13:18:28.310 Thread 'MainThread': missing ScriptRunContext! This warning can be ignored when running in bare mode.\n",
            "2025-02-03 13:18:28.311 Thread 'MainThread': missing ScriptRunContext! This warning can be ignored when running in bare mode.\n",
            "2025-02-03 13:18:28.313 Thread 'MainThread': missing ScriptRunContext! This warning can be ignored when running in bare mode.\n",
            "2025-02-03 13:18:28.314 Thread 'MainThread': missing ScriptRunContext! This warning can be ignored when running in bare mode.\n",
            "2025-02-03 13:18:28.315 Thread 'MainThread': missing ScriptRunContext! This warning can be ignored when running in bare mode.\n",
            "2025-02-03 13:18:28.317 Thread 'MainThread': missing ScriptRunContext! This warning can be ignored when running in bare mode.\n",
            "2025-02-03 13:18:28.318 Thread 'MainThread': missing ScriptRunContext! This warning can be ignored when running in bare mode.\n",
            "2025-02-03 13:18:28.319 Thread 'MainThread': missing ScriptRunContext! This warning can be ignored when running in bare mode.\n",
            "2025-02-03 13:18:28.320 Thread 'MainThread': missing ScriptRunContext! This warning can be ignored when running in bare mode.\n",
            "2025-02-03 13:18:28.321 Thread 'MainThread': missing ScriptRunContext! This warning can be ignored when running in bare mode.\n",
            "2025-02-03 13:18:28.323 Thread 'MainThread': missing ScriptRunContext! This warning can be ignored when running in bare mode.\n",
            "2025-02-03 13:18:28.324 Thread 'MainThread': missing ScriptRunContext! This warning can be ignored when running in bare mode.\n",
            "2025-02-03 13:18:28.325 Thread 'MainThread': missing ScriptRunContext! This warning can be ignored when running in bare mode.\n",
            "2025-02-03 13:18:28.327 Thread 'MainThread': missing ScriptRunContext! This warning can be ignored when running in bare mode.\n",
            "2025-02-03 13:18:28.328 Thread 'MainThread': missing ScriptRunContext! This warning can be ignored when running in bare mode.\n",
            "2025-02-03 13:18:28.329 Thread 'MainThread': missing ScriptRunContext! This warning can be ignored when running in bare mode.\n",
            "2025-02-03 13:18:28.330 Thread 'MainThread': missing ScriptRunContext! This warning can be ignored when running in bare mode.\n",
            "2025-02-03 13:18:28.331 Thread 'MainThread': missing ScriptRunContext! This warning can be ignored when running in bare mode.\n",
            "2025-02-03 13:18:28.332 Thread 'MainThread': missing ScriptRunContext! This warning can be ignored when running in bare mode.\n",
            "2025-02-03 13:18:28.334 Thread 'MainThread': missing ScriptRunContext! This warning can be ignored when running in bare mode.\n",
            "2025-02-03 13:18:28.335 Thread 'MainThread': missing ScriptRunContext! This warning can be ignored when running in bare mode.\n",
            "2025-02-03 13:18:28.336 Thread 'MainThread': missing ScriptRunContext! This warning can be ignored when running in bare mode.\n",
            "2025-02-03 13:18:28.337 Thread 'MainThread': missing ScriptRunContext! This warning can be ignored when running in bare mode.\n",
            "2025-02-03 13:18:28.339 Thread 'MainThread': missing ScriptRunContext! This warning can be ignored when running in bare mode.\n",
            "2025-02-03 13:18:28.340 Thread 'MainThread': missing ScriptRunContext! This warning can be ignored when running in bare mode.\n",
            "2025-02-03 13:18:28.341 Thread 'MainThread': missing ScriptRunContext! This warning can be ignored when running in bare mode.\n",
            "2025-02-03 13:18:28.342 Thread 'MainThread': missing ScriptRunContext! This warning can be ignored when running in bare mode.\n",
            "2025-02-03 13:18:28.343 Thread 'MainThread': missing ScriptRunContext! This warning can be ignored when running in bare mode.\n",
            "2025-02-03 13:18:28.345 Thread 'MainThread': missing ScriptRunContext! This warning can be ignored when running in bare mode.\n",
            "2025-02-03 13:18:28.346 Thread 'MainThread': missing ScriptRunContext! This warning can be ignored when running in bare mode.\n",
            "2025-02-03 13:18:28.347 Thread 'MainThread': missing ScriptRunContext! This warning can be ignored when running in bare mode.\n",
            "2025-02-03 13:18:28.348 Thread 'MainThread': missing ScriptRunContext! This warning can be ignored when running in bare mode.\n",
            "2025-02-03 13:18:28.349 Thread 'MainThread': missing ScriptRunContext! This warning can be ignored when running in bare mode.\n",
            "2025-02-03 13:18:28.350 Thread 'MainThread': missing ScriptRunContext! This warning can be ignored when running in bare mode.\n",
            "2025-02-03 13:18:28.352 Thread 'MainThread': missing ScriptRunContext! This warning can be ignored when running in bare mode.\n",
            "2025-02-03 13:18:28.353 Thread 'MainThread': missing ScriptRunContext! This warning can be ignored when running in bare mode.\n",
            "2025-02-03 13:18:28.354 Thread 'MainThread': missing ScriptRunContext! This warning can be ignored when running in bare mode.\n"
          ]
        }
      ]
    },
    {
      "cell_type": "code",
      "source": [
        "# Create the customer data dictionary\n",
        "cust = {\n",
        "    'contract': contract,\n",
        "    'onlinesecurity': onlinesecurity,\n",
        "    'techsupport': techsupport,\n",
        "    'internetservice': internetservice,\n",
        "    'onlinebackup': onlinebackup,\n",
        "    'tenure': tenure,\n",
        "    'monthlycharges': monthlycharges,\n",
        "    'totalcharges': totalcharges\n",
        "}\n",
        "\n",
        "# Predict churn\n",
        "if st.button('Predict'):\n",
        "    # Convert input into DataFrame and ensure all columns are present\n",
        "    cust_df = pd.DataFrame([cust])\n",
        "\n",
        "    if 'seniorcitizen' not in cust_df:\n",
        "        cust_df['seniorcitizen'] = 0  # Adding missing column\n",
        "\n",
        "    # Apply transformation\n",
        "    cust_transformed = trans.transform(cust_df)\n",
        "\n",
        "    # Predict churn\n",
        "    prediction = model.predict(cust_transformed)[0]\n",
        "\n",
        "    # Display result\n",
        "    if prediction == 0:\n",
        "        st.success('The customer is NOT likely to churn.')\n",
        "    else:\n",
        "        st.error('The customer is likely to churn.')\n",
        "\n"
      ],
      "metadata": {
        "colab": {
          "base_uri": "https://localhost:8080/"
        },
        "id": "m7bJOZuS9ogz",
        "outputId": "b8cffee4-9441-44ea-88b5-c310695c80b9"
      },
      "execution_count": 10,
      "outputs": [
        {
          "output_type": "stream",
          "name": "stderr",
          "text": [
            "2025-02-03 13:19:03.070 Thread 'MainThread': missing ScriptRunContext! This warning can be ignored when running in bare mode.\n",
            "2025-02-03 13:19:03.073 Thread 'MainThread': missing ScriptRunContext! This warning can be ignored when running in bare mode.\n",
            "2025-02-03 13:19:03.075 Thread 'MainThread': missing ScriptRunContext! This warning can be ignored when running in bare mode.\n",
            "2025-02-03 13:19:03.077 Thread 'MainThread': missing ScriptRunContext! This warning can be ignored when running in bare mode.\n",
            "2025-02-03 13:19:03.080 Thread 'MainThread': missing ScriptRunContext! This warning can be ignored when running in bare mode.\n"
          ]
        }
      ]
    },
    {
      "cell_type": "code",
      "source": [],
      "metadata": {
        "id": "XVTUfdPO9xAg"
      },
      "execution_count": null,
      "outputs": []
    }
  ]
}